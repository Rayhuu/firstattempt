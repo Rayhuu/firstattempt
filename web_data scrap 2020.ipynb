{
 "cells": [
  {
   "cell_type": "code",
   "execution_count": 1,
   "metadata": {},
   "outputs": [
    {
     "name": "stderr",
     "output_type": "stream",
     "text": [
      "[nltk_data] Downloading package punkt to\n",
      "[nltk_data]     C:\\Users\\Administrator\\AppData\\Roaming\\nltk_data...\n",
      "[nltk_data]   Package punkt is already up-to-date!\n",
      "[nltk_data] Downloading package wordnet to\n",
      "[nltk_data]     C:\\Users\\Administrator\\AppData\\Roaming\\nltk_data...\n",
      "[nltk_data]   Package wordnet is already up-to-date!\n"
     ]
    },
    {
     "data": {
      "text/plain": [
       "True"
      ]
     },
     "execution_count": 1,
     "metadata": {},
     "output_type": "execute_result"
    }
   ],
   "source": [
    "import pandas as pd\n",
    "import pandas as pd\n",
    "import matplotlib.ticker as ticker\n",
    "import numpy as np\n",
    "import requests\n",
    "import nltk\n",
    "import pandas as pd\n",
    "import numpy as np\n",
    "import matplotlib.pyplot as plt\n",
    "from collections import Counter\n",
    "import wordcloud\n",
    "from wordcloud import WordCloud\n",
    "from imageio import imread\n",
    "from nltk.stem import WordNetLemmatizer \n",
    "import time\n",
    "import re\n",
    "from bs4 import BeautifulSoup\n",
    "from sklearn.linear_model import LogisticRegression\n",
    "from sklearn.naive_bayes import BernoulliNB\n",
    "from sklearn import metrics\n",
    "from sklearn.model_selection import cross_val_score\n",
    "from sklearn.feature_extraction.text import CountVectorizer\n",
    "from sklearn.feature_extraction.text import TfidfVectorizer\n",
    "import matplotlib.pylab as plt\n",
    "%matplotlib inline\n",
    "nltk.download('punkt')\n",
    "nltk.download('wordnet')"
   ]
  },
  {
   "cell_type": "code",
   "execution_count": 2,
   "metadata": {},
   "outputs": [],
   "source": [
    "data  = [] \n",
    "my_headers = { 'User-Agent': 'Mozilla/5.0.html (Windows; U; Windows NT 6.1; en-US) AppleWebKit/534.16 (KHTML, like Gecko) Chrome/10.0.html.648.133 Safari/534.16'}"
   ]
  },
  {
   "cell_type": "code",
   "execution_count": null,
   "metadata": {},
   "outputs": [
    {
     "name": "stdout",
     "output_type": "stream",
     "text": [
      "get! : https://www.wsj.com/search?query=&isToggleOn=true&operator=OR&sort=date-desc&duration=30d&startDate=2020%2F02%2F01&endDate=2020%2F04%2F30&meta=Business&source=wsjie&page=1\n",
      "get! : https://www.wsj.com/search?query=&isToggleOn=true&operator=OR&sort=date-desc&duration=30d&startDate=2020%2F02%2F01&endDate=2020%2F04%2F30&meta=Business&source=wsjie&page=1\n",
      "get! : https://www.wsj.com/search?query=&isToggleOn=true&operator=OR&sort=date-desc&duration=30d&startDate=2020%2F02%2F01&endDate=2020%2F04%2F30&meta=Business&source=wsjie&page=1\n",
      "get! : https://www.wsj.com/search?query=&isToggleOn=true&operator=OR&sort=date-desc&duration=30d&startDate=2020%2F02%2F01&endDate=2020%2F04%2F30&meta=Business&source=wsjie&page=1\n",
      "get! : https://www.wsj.com/search?query=&isToggleOn=true&operator=OR&sort=date-desc&duration=30d&startDate=2020%2F02%2F01&endDate=2020%2F04%2F30&meta=Business&source=wsjie&page=2\n",
      "get! : https://www.wsj.com/search?query=&isToggleOn=true&operator=OR&sort=date-desc&duration=30d&startDate=2020%2F02%2F01&endDate=2020%2F04%2F30&meta=Business&source=wsjie&page=2\n",
      "get! : https://www.wsj.com/search?query=&isToggleOn=true&operator=OR&sort=date-desc&duration=30d&startDate=2020%2F02%2F01&endDate=2020%2F04%2F30&meta=Business&source=wsjie&page=2\n",
      "get! : https://www.wsj.com/search?query=&isToggleOn=true&operator=OR&sort=date-desc&duration=30d&startDate=2020%2F02%2F01&endDate=2020%2F04%2F30&meta=Business&source=wsjie&page=3\n",
      "get! : https://www.wsj.com/search?query=&isToggleOn=true&operator=OR&sort=date-desc&duration=30d&startDate=2020%2F02%2F01&endDate=2020%2F04%2F30&meta=Business&source=wsjie&page=3\n",
      "get! : https://www.wsj.com/search?query=&isToggleOn=true&operator=OR&sort=date-desc&duration=30d&startDate=2020%2F02%2F01&endDate=2020%2F04%2F30&meta=Business&source=wsjie&page=3\n",
      "get! : https://www.wsj.com/search?query=&isToggleOn=true&operator=OR&sort=date-desc&duration=30d&startDate=2020%2F02%2F01&endDate=2020%2F04%2F30&meta=Business&source=wsjie&page=3\n",
      "get! : https://www.wsj.com/search?query=&isToggleOn=true&operator=OR&sort=date-desc&duration=30d&startDate=2020%2F02%2F01&endDate=2020%2F04%2F30&meta=Business&source=wsjie&page=4\n",
      "get! : https://www.wsj.com/search?query=&isToggleOn=true&operator=OR&sort=date-desc&duration=30d&startDate=2020%2F02%2F01&endDate=2020%2F04%2F30&meta=Business&source=wsjie&page=4\n",
      "get! : https://www.wsj.com/search?query=&isToggleOn=true&operator=OR&sort=date-desc&duration=30d&startDate=2020%2F02%2F01&endDate=2020%2F04%2F30&meta=Business&source=wsjie&page=4\n",
      "get! : https://www.wsj.com/search?query=&isToggleOn=true&operator=OR&sort=date-desc&duration=30d&startDate=2020%2F02%2F01&endDate=2020%2F04%2F30&meta=Business&source=wsjie&page=4\n",
      "get! : https://www.wsj.com/search?query=&isToggleOn=true&operator=OR&sort=date-desc&duration=30d&startDate=2020%2F02%2F01&endDate=2020%2F04%2F30&meta=Business&source=wsjie&page=4\n",
      "get! : https://www.wsj.com/search?query=&isToggleOn=true&operator=OR&sort=date-desc&duration=30d&startDate=2020%2F02%2F01&endDate=2020%2F04%2F30&meta=Business&source=wsjie&page=4\n",
      "get! : https://www.wsj.com/search?query=&isToggleOn=true&operator=OR&sort=date-desc&duration=30d&startDate=2020%2F02%2F01&endDate=2020%2F04%2F30&meta=Business&source=wsjie&page=4\n",
      "get! : https://www.wsj.com/search?query=&isToggleOn=true&operator=OR&sort=date-desc&duration=30d&startDate=2020%2F02%2F01&endDate=2020%2F04%2F30&meta=Business&source=wsjie&page=4\n",
      "get! : https://www.wsj.com/search?query=&isToggleOn=true&operator=OR&sort=date-desc&duration=30d&startDate=2020%2F02%2F01&endDate=2020%2F04%2F30&meta=Business&source=wsjie&page=5\n",
      "get! : https://www.wsj.com/search?query=&isToggleOn=true&operator=OR&sort=date-desc&duration=30d&startDate=2020%2F02%2F01&endDate=2020%2F04%2F30&meta=Business&source=wsjie&page=5\n",
      "get! : https://www.wsj.com/search?query=&isToggleOn=true&operator=OR&sort=date-desc&duration=30d&startDate=2020%2F02%2F01&endDate=2020%2F04%2F30&meta=Business&source=wsjie&page=5\n",
      "get! : https://www.wsj.com/search?query=&isToggleOn=true&operator=OR&sort=date-desc&duration=30d&startDate=2020%2F02%2F01&endDate=2020%2F04%2F30&meta=Business&source=wsjie&page=5\n",
      "get! : https://www.wsj.com/search?query=&isToggleOn=true&operator=OR&sort=date-desc&duration=30d&startDate=2020%2F02%2F01&endDate=2020%2F04%2F30&meta=Business&source=wsjie&page=5\n",
      "get! : https://www.wsj.com/search?query=&isToggleOn=true&operator=OR&sort=date-desc&duration=30d&startDate=2020%2F02%2F01&endDate=2020%2F04%2F30&meta=Business&source=wsjie&page=5\n",
      "get! : https://www.wsj.com/search?query=&isToggleOn=true&operator=OR&sort=date-desc&duration=30d&startDate=2020%2F02%2F01&endDate=2020%2F04%2F30&meta=Business&source=wsjie&page=5\n",
      "get! : https://www.wsj.com/search?query=&isToggleOn=true&operator=OR&sort=date-desc&duration=30d&startDate=2020%2F02%2F01&endDate=2020%2F04%2F30&meta=Business&source=wsjie&page=6\n",
      "get! : https://www.wsj.com/search?query=&isToggleOn=true&operator=OR&sort=date-desc&duration=30d&startDate=2020%2F02%2F01&endDate=2020%2F04%2F30&meta=Business&source=wsjie&page=6\n",
      "get! : https://www.wsj.com/search?query=&isToggleOn=true&operator=OR&sort=date-desc&duration=30d&startDate=2020%2F02%2F01&endDate=2020%2F04%2F30&meta=Business&source=wsjie&page=6\n",
      "get! : https://www.wsj.com/search?query=&isToggleOn=true&operator=OR&sort=date-desc&duration=30d&startDate=2020%2F02%2F01&endDate=2020%2F04%2F30&meta=Business&source=wsjie&page=7\n",
      "get! : https://www.wsj.com/search?query=&isToggleOn=true&operator=OR&sort=date-desc&duration=30d&startDate=2020%2F02%2F01&endDate=2020%2F04%2F30&meta=Business&source=wsjie&page=7\n",
      "get! : https://www.wsj.com/search?query=&isToggleOn=true&operator=OR&sort=date-desc&duration=30d&startDate=2020%2F02%2F01&endDate=2020%2F04%2F30&meta=Business&source=wsjie&page=8\n",
      "get! : https://www.wsj.com/search?query=&isToggleOn=true&operator=OR&sort=date-desc&duration=30d&startDate=2020%2F02%2F01&endDate=2020%2F04%2F30&meta=Business&source=wsjie&page=8\n",
      "get! : https://www.wsj.com/search?query=&isToggleOn=true&operator=OR&sort=date-desc&duration=30d&startDate=2020%2F02%2F01&endDate=2020%2F04%2F30&meta=Business&source=wsjie&page=8\n",
      "get! : https://www.wsj.com/search?query=&isToggleOn=true&operator=OR&sort=date-desc&duration=30d&startDate=2020%2F02%2F01&endDate=2020%2F04%2F30&meta=Business&source=wsjie&page=9\n",
      "get! : https://www.wsj.com/search?query=&isToggleOn=true&operator=OR&sort=date-desc&duration=30d&startDate=2020%2F02%2F01&endDate=2020%2F04%2F30&meta=Business&source=wsjie&page=9\n",
      "get! : https://www.wsj.com/search?query=&isToggleOn=true&operator=OR&sort=date-desc&duration=30d&startDate=2020%2F02%2F01&endDate=2020%2F04%2F30&meta=Business&source=wsjie&page=9\n",
      "get! : https://www.wsj.com/search?query=&isToggleOn=true&operator=OR&sort=date-desc&duration=30d&startDate=2020%2F02%2F01&endDate=2020%2F04%2F30&meta=Business&source=wsjie&page=9\n",
      "get! : https://www.wsj.com/search?query=&isToggleOn=true&operator=OR&sort=date-desc&duration=30d&startDate=2020%2F02%2F01&endDate=2020%2F04%2F30&meta=Business&source=wsjie&page=9\n",
      "get! : https://www.wsj.com/search?query=&isToggleOn=true&operator=OR&sort=date-desc&duration=30d&startDate=2020%2F02%2F01&endDate=2020%2F04%2F30&meta=Business&source=wsjie&page=10\n",
      "get! : https://www.wsj.com/search?query=&isToggleOn=true&operator=OR&sort=date-desc&duration=30d&startDate=2020%2F02%2F01&endDate=2020%2F04%2F30&meta=Business&source=wsjie&page=10\n",
      "get! : https://www.wsj.com/search?query=&isToggleOn=true&operator=OR&sort=date-desc&duration=30d&startDate=2020%2F02%2F01&endDate=2020%2F04%2F30&meta=Business&source=wsjie&page=10\n",
      "get! : https://www.wsj.com/search?query=&isToggleOn=true&operator=OR&sort=date-desc&duration=30d&startDate=2020%2F02%2F01&endDate=2020%2F04%2F30&meta=Business&source=wsjie&page=10\n",
      "get! : https://www.wsj.com/search?query=&isToggleOn=true&operator=OR&sort=date-desc&duration=30d&startDate=2020%2F02%2F01&endDate=2020%2F04%2F30&meta=Business&source=wsjie&page=11\n",
      "get! : https://www.wsj.com/search?query=&isToggleOn=true&operator=OR&sort=date-desc&duration=30d&startDate=2020%2F02%2F01&endDate=2020%2F04%2F30&meta=Business&source=wsjie&page=11\n",
      "get! : https://www.wsj.com/search?query=&isToggleOn=true&operator=OR&sort=date-desc&duration=30d&startDate=2020%2F02%2F01&endDate=2020%2F04%2F30&meta=Business&source=wsjie&page=11\n"
     ]
    },
    {
     "name": "stdout",
     "output_type": "stream",
     "text": [
      "get! : https://www.wsj.com/search?query=&isToggleOn=true&operator=OR&sort=date-desc&duration=30d&startDate=2020%2F02%2F01&endDate=2020%2F04%2F30&meta=Business&source=wsjie&page=11\n",
      "get! : https://www.wsj.com/search?query=&isToggleOn=true&operator=OR&sort=date-desc&duration=30d&startDate=2020%2F02%2F01&endDate=2020%2F04%2F30&meta=Business&source=wsjie&page=11\n",
      "get! : https://www.wsj.com/search?query=&isToggleOn=true&operator=OR&sort=date-desc&duration=30d&startDate=2020%2F02%2F01&endDate=2020%2F04%2F30&meta=Business&source=wsjie&page=12\n",
      "get! : https://www.wsj.com/search?query=&isToggleOn=true&operator=OR&sort=date-desc&duration=30d&startDate=2020%2F02%2F01&endDate=2020%2F04%2F30&meta=Business&source=wsjie&page=12\n",
      "get! : https://www.wsj.com/search?query=&isToggleOn=true&operator=OR&sort=date-desc&duration=30d&startDate=2020%2F02%2F01&endDate=2020%2F04%2F30&meta=Business&source=wsjie&page=12\n"
     ]
    }
   ],
   "source": [
    "data = []\n",
    "\n",
    "for k in range(1,497):\n",
    "  while True: \n",
    "        page='https://www.wsj.com/search?query=&isToggleOn=true&operator=OR&sort=date-desc&duration=30d&startDate=2020%2F02%2F01&endDate=2020%2F04%2F30&meta=Business&source=wsjie&page='+str(k)\n",
    "        time.sleep(1)\n",
    "        src  = False\n",
    "        for i in range(1,20): \n",
    "            try:\n",
    "                response = requests.get(page, headers = my_headers)\n",
    "                src = response.content\n",
    "                break \n",
    "            except:\n",
    "                print ('failed attempt #',i)\n",
    "                time.sleep(2)\n",
    "        if not src:\n",
    "                print('Could not get page: ', page)\n",
    "                continue \n",
    "        else:\n",
    "            print('get! :',page)    \n",
    "            \n",
    "        soup = BeautifulSoup(src.decode('ascii', 'ignore'), 'lxml')\n",
    "        reviews = soup.findAll('article', {'class':re.compile('WSJTheme--story--XB4V2mLz')})\n",
    "\n",
    "        for review in reviews:\n",
    "            The_critic = 'NA'\n",
    "            The_text = 'NA'\n",
    "            The_time = 'NA'\n",
    "\n",
    "            p_tags= review.find_all('p')\n",
    "            h3= review.find('h3')\n",
    "            The_critic = h3.text.strip()\n",
    "            for p in p_tags:\n",
    "                if 'WSJTheme--timestamp--22sfkNDv' in p.attrs['class']:\n",
    "                    The_time = p.text.strip()\n",
    "                elif 'WSJTheme--summary--lmOXEsbN' in p.attrs['class']:\n",
    "                    The_text = p.text.strip()\n",
    "            data.append([The_critic ,The_text,The_time])\n",
    "            \n",
    "        if len(data)== 20*k:\n",
    "            break\n",
    "print('get full page: ', page)\n",
    "\n",
    "\n",
    "\n",
    "\n",
    "        "
   ]
  },
  {
   "cell_type": "code",
   "execution_count": null,
   "metadata": {},
   "outputs": [],
   "source": [
    "len(data)\n"
   ]
  },
  {
   "cell_type": "code",
   "execution_count": null,
   "metadata": {},
   "outputs": [],
   "source": [
    "df=pd.DataFrame(data,columns=['The_critic','The_text','The_time'])\n",
    "len(df)"
   ]
  },
  {
   "cell_type": "code",
   "execution_count": null,
   "metadata": {},
   "outputs": [],
   "source": [
    "with open('C:/Users/Administrator/Desktop/all_page_2020.txt', mode='w', encoding='utf-8') as f:\n",
    "    for statement in data:\n",
    "        f.write(statement[0] + '|' + statement[1] + '|' + statement[2] + '\\n')"
   ]
  }
 ],
 "metadata": {
  "kernelspec": {
   "display_name": "Python 3",
   "language": "python",
   "name": "python3"
  },
  "language_info": {
   "codemirror_mode": {
    "name": "ipython",
    "version": 3
   },
   "file_extension": ".py",
   "mimetype": "text/x-python",
   "name": "python",
   "nbconvert_exporter": "python",
   "pygments_lexer": "ipython3",
   "version": "3.8.3"
  }
 },
 "nbformat": 4,
 "nbformat_minor": 4
}
